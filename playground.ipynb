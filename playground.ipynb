{
 "cells": [
  {
   "cell_type": "code",
   "execution_count": 88,
   "metadata": {},
   "outputs": [],
   "source": [
    "import csv\n",
    "import json"
   ]
  },
  {
   "cell_type": "code",
   "execution_count": 89,
   "metadata": {},
   "outputs": [],
   "source": [
    "mc_lang_en = json.load(open('en_us.json'))"
   ]
  },
  {
   "cell_type": "code",
   "execution_count": 90,
   "metadata": {},
   "outputs": [],
   "source": [
    "dict_eng_pidgin = {}\n",
    "\n",
    "for word in csv.DictReader(open('vocab.csv')):\n",
    "    for sense in word['English definition'].split(','):\n",
    "        sense = sense.lower().strip()\n",
    "        if sense not in dict_eng_pidgin:\n",
    "            dict_eng_pidgin[sense] = word['Pidgin word']\n",
    "        else:\n",
    "            dict_eng_pidgin[sense] += '/' + word['Pidgin word']\n",
    "\n",
    "del dict_eng_pidgin['?']"
   ]
  },
  {
   "cell_type": "code",
   "execution_count": 91,
   "metadata": {},
   "outputs": [],
   "source": [
    "stop_words = ['in', 'at', 'on', 'to', 'is', 'be', 'yes', 'no']\n",
    "mc_lang_pidgin = {}\n",
    "\n",
    "for [key, translation] in mc_lang_en.items():\n",
    "    translation = translation.lower().strip()\n",
    "\n",
    "    if (\n",
    "        key.startswith(\"menu.\") or\n",
    "        key.startswith(\"options.\") or\n",
    "        key.startswith(\"pack.\")\n",
    "    ): # do not touch menu/option strings\n",
    "        mc_lang_pidgin[key] = mc_lang_en[key]\n",
    "    elif translation in dict_eng_pidgin:\n",
    "        mc_lang_pidgin[key] = dict_eng_pidgin[translation]\n",
    "    else:\n",
    "        pidgin_words = []\n",
    "        for token in translation.split():\n",
    "            if (\n",
    "                token in dict_eng_pidgin and\n",
    "                token not in stop_words and\n",
    "                token[0] != '%'\n",
    "            ):\n",
    "                pidgin_words.append(dict_eng_pidgin[token])\n",
    "\n",
    "        if len(pidgin_words) > 0:\n",
    "            mc_lang_pidgin[key] = '? ' + ' '.join(pidgin_words) + ' ?'\n",
    "        else:\n",
    "            mc_lang_pidgin[key] = '???'\n",
    "\n",
    "json.dump(mc_lang_pidgin, open('scc_resourcepack/assets/pidgincraft/lang/pidgin_scc.json', 'w'), indent=2)"
   ]
  }
 ],
 "metadata": {
  "kernelspec": {
   "display_name": "Python 3",
   "language": "python",
   "name": "python3"
  },
  "language_info": {
   "codemirror_mode": {
    "name": "ipython",
    "version": 3
   },
   "file_extension": ".py",
   "mimetype": "text/x-python",
   "name": "python",
   "nbconvert_exporter": "python",
   "pygments_lexer": "ipython3",
   "version": "3.9.11"
  }
 },
 "nbformat": 4,
 "nbformat_minor": 2
}
